{
 "cells": [
  {
   "cell_type": "code",
   "execution_count": 11,
   "metadata": {},
   "outputs": [],
   "source": [
    "from bh_abm import *\n",
    "from generic_abm import *\n",
    "\n",
    "import numpy as np\n",
    "import pandas as pd\n",
    "from scipy.stats import ks_2samp"
   ]
  },
  {
   "cell_type": "code",
   "execution_count": 12,
   "metadata": {},
   "outputs": [
    {
     "ename": "NameError",
     "evalue": "name 'np' is not defined",
     "output_type": "error",
     "traceback": [
      "\u001b[0;31m---------------------------------------------------------------------------\u001b[0m",
      "\u001b[0;31mNameError\u001b[0m                                 Traceback (most recent call last)",
      "\u001b[0;32m<ipython-input-12-38bc902b875a>\u001b[0m in \u001b[0;36m<module>\u001b[0;34m()\u001b[0m\n\u001b[1;32m      6\u001b[0m \u001b[0;34m\u001b[0m\u001b[0m\n\u001b[1;32m      7\u001b[0m \u001b[0;31m# Set the ABM parameters and support\u001b[0m\u001b[0;34m\u001b[0m\u001b[0;34m\u001b[0m\u001b[0m\n\u001b[0;32m----> 8\u001b[0;31m bh_abm_exploration_range = np.array([(0.0, 10.0),  # beta  (intensity of choice)\n\u001b[0m\u001b[1;32m      9\u001b[0m                                      \u001b[0;34m(\u001b[0m\u001b[0;36m0.5\u001b[0m\u001b[0;34m,\u001b[0m \u001b[0;36m0.5\u001b[0m\u001b[0;34m)\u001b[0m\u001b[0;34m,\u001b[0m   \u001b[0;31m# n_1   (initial share of type 1 traders)\u001b[0m\u001b[0;34m\u001b[0m\u001b[0m\n\u001b[1;32m     10\u001b[0m                                      \u001b[0;34m(\u001b[0m\u001b[0;34m-\u001b[0m\u001b[0;36m2.0\u001b[0m\u001b[0;34m,\u001b[0m \u001b[0;36m2.0\u001b[0m\u001b[0;34m)\u001b[0m\u001b[0;34m,\u001b[0m  \u001b[0;31m# b_1   (bias of type 1 traders)\u001b[0m\u001b[0;34m\u001b[0m\u001b[0m\n",
      "\u001b[0;31mNameError\u001b[0m: name 'np' is not defined"
     ]
    }
   ],
   "source": [
    "# Set the ABM Evaluation Budget\n",
    "n_train_samples = 100\n",
    "\n",
    "# Set test size\n",
    "n_test_samples = 100\n",
    "\n",
    "# Set the ABM parameters and support\n",
    "bh_abm_exploration_range = np.array([(0.0, 10.0),  # beta  (intensity of choice)\n",
    "                                     (0.5, 0.5),   # n_1   (initial share of type 1 traders)\n",
    "                                     (-2.0, 2.0),  # b_1   (bias of type 1 traders)\n",
    "                                     (-2.0, 2.0),  # b_2   (bias of type 2 traders)\n",
    "                                     (-2.0, 2.0),  # g_1   (trend of type 1 traders)\n",
    "                                     (-2.0, 2.0),  # g_2   (trend of type 2 traders)\n",
    "                                     (0.0, 5.0),   # C     (cost of obtaining type 1 forecasts)\n",
    "                                     (0.0, 1.0),   # w     (weight to past profits)\n",
    "                                     (0.0, 1.0),   # sigma (asset volatility)\n",
    "                                     (0.0, 100.0), # v     (attitude towards risk)\n",
    "                                     (0.01, 0.1)]) # r    (risk free return)"
   ]
  },
  {
   "cell_type": "code",
   "execution_count": 13,
   "metadata": {},
   "outputs": [
    {
     "ename": "NameError",
     "evalue": "name 'get_unirand_samples' is not defined",
     "output_type": "error",
     "traceback": [
      "\u001b[0;31m---------------------------------------------------------------------------\u001b[0m",
      "\u001b[0;31mNameError\u001b[0m                                 Traceback (most recent call last)",
      "\u001b[0;32m<ipython-input-13-4b61d46672ff>\u001b[0m in \u001b[0;36m<module>\u001b[0;34m()\u001b[0m\n\u001b[1;32m      1\u001b[0m \u001b[0;31m# Get parameters for train and test from the support\u001b[0m\u001b[0;34m\u001b[0m\u001b[0;34m\u001b[0m\u001b[0m\n\u001b[0;32m----> 2\u001b[0;31m \u001b[0mtrain\u001b[0m\u001b[0;34m,\u001b[0m \u001b[0mtest\u001b[0m \u001b[0;34m=\u001b[0m \u001b[0mget_unirand_samples\u001b[0m\u001b[0;34m(\u001b[0m\u001b[0;36m10\u001b[0m\u001b[0;34m,\u001b[0m \u001b[0;36m20\u001b[0m\u001b[0;34m,\u001b[0m \u001b[0mbh_abm_exploration_range\u001b[0m\u001b[0;34m)\u001b[0m\u001b[0;34m\u001b[0m\u001b[0m\n\u001b[0m",
      "\u001b[0;31mNameError\u001b[0m: name 'get_unirand_samples' is not defined"
     ]
    }
   ],
   "source": [
    "# Get parameters for train and test from the support\n",
    "train, test = get_unirand_samples(10, 20, bh_abm_exploration_range)"
   ]
  },
  {
   "cell_type": "code",
   "execution_count": null,
   "metadata": {},
   "outputs": [],
   "source": [
    "# Get parameters for train and test from the support\n",
    "X_train, X_test = get_unirand_parameter_samples(n_train_samples, n_test_samples, bh_abm_exploration_range)\n",
    "\n",
    "# Run the ABM on the train and test parameters\n",
    "y_train, y_test =  bh_abm_evaluate_samples(X_train, X_test)"
   ]
  }
 ],
 "metadata": {
  "kernelspec": {
   "display_name": "Python 2",
   "language": "python",
   "name": "python2"
  },
  "language_info": {
   "codemirror_mode": {
    "name": "ipython",
    "version": 2
   },
   "file_extension": ".py",
   "mimetype": "text/x-python",
   "name": "python",
   "nbconvert_exporter": "python",
   "pygments_lexer": "ipython2",
   "version": "2.7.15"
  }
 },
 "nbformat": 4,
 "nbformat_minor": 2
}
