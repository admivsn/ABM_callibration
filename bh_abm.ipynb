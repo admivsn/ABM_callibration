{
 "cells": [
  {
   "cell_type": "code",
   "execution_count": 211,
   "metadata": {},
   "outputs": [],
   "source": [
    "import numpy as np\n",
    "import pandas as pd\n",
    "from scipy.stats import ks_2samp"
   ]
  },
  {
   "cell_type": "code",
   "execution_count": 212,
   "metadata": {},
   "outputs": [
    {
     "name": "stdout",
     "output_type": "stream",
     "text": [
      "bh_abm successfully imported\n"
     ]
    }
   ],
   "source": [
    "def bh_abm(beta = 1.0,\n",
    "           n_1 = 0.5,\n",
    "           b_1 = 0.5,\n",
    "           b_2 = 0.2,\n",
    "           g_1 = 1.0, \n",
    "           g_2 = 1.0,\n",
    "           C = 0.1,\n",
    "           w = 0.1,\n",
    "           sigma = 0.1,\n",
    "           v = 1,\n",
    "           r = 0.1,\n",
    "           T = 1000,\n",
    "           _RNG_SEED = 0):\n",
    "    \"\"\"\n",
    "    Simulation of B&H asset pricing model.\n",
    "    \n",
    "    Parameters\n",
    "    ----------\n",
    "    beta :\n",
    "        Intensity of choice [0, inf).\n",
    "    n_1 : (Default = 0.5)\n",
    "        Initial share of type 1 traders [0, 1].\n",
    "    b_1 :\n",
    "        Bias of type 1 traders (-inf, inf).\n",
    "    b_2 :\n",
    "        Bias of type 2 traders (-inf, inf).\n",
    "    g_1:\n",
    "        Trend component of type 1 traders (-inf, inf).\n",
    "    g_2:\n",
    "        Trend component of type 2 traders (-inf, inf).\n",
    "    C :\n",
    "        Cost of obtaining type 1 forecasts [0, inf).\n",
    "    w :\n",
    "        Weight to past profits [0, 1] \n",
    "    sigma :\n",
    "        Asset volatility (0, inf).\n",
    "    v :\n",
    "        Attitude towards risk [0, inf].\n",
    "    r :\n",
    "        Risk-free return (1, inf).\n",
    "    T : int, required\n",
    "        Number of periods.\n",
    "    _RNG_SEED : int, optional (Default = 0)\n",
    "        Random number seen.\n",
    "        \n",
    "    Returns\n",
    "    -------\n",
    "    simulated_data: \n",
    "        Logarithmic return of the asset.\n",
    "    \"\"\"\n",
    "    \n",
    "    simulated_data = np.array([0.0])\n",
    "\n",
    "    x_prev = 0.2 # Previous deviation from fundamental price\n",
    "    \n",
    "    y_bar = 0.1 # Expected dividend of risky asset\n",
    "        \n",
    "    R = 1 + r \n",
    "    \n",
    "    p_star = y_bar / (R-1) # Fundamental price of asset that satisfys no bubbles\n",
    "    \n",
    "    # Check that R * x_t is going to be positive [x_t = p_t - p_t^* (deviation from fundamental price)]\n",
    "    if (n_1 * (g_1 * x_prev + b_1)) + ((1 - n_1) * (g_2 * x_prev + b_2)) > 0:\n",
    "            \n",
    "        # Set random seed\n",
    "        np.random.seed(_RNG_SEED)\n",
    "        random_dividend = np.random.uniform(low = -0.1, high = 0.1, size = T)\n",
    "\n",
    "        # Preallocate Containers to store results\n",
    "        X = np.zeros(T) # Deviations from fundamental prices\n",
    "        P = np.zeros(T) # Prices (ex. divdend) of risky asset\n",
    "        N_1 = np.zeros(T) # Array to store the share of type 1 traders\n",
    "        \n",
    "        # Performance measures initialised\n",
    "        U_1, U_2 = 0, 0\n",
    "        \n",
    "        \"\"\" Run simulation \"\"\"\n",
    "        for t in range(T):\n",
    "            \n",
    "            # Define share of type 2 traders\n",
    "            n_2 = 1 - n_1\n",
    "            \n",
    "            # Price x using the equilibrium condition\n",
    "            x_equil = (n_1 * (g_1 * x_prev + b_1)) + (n_2 * (g_2 * x_prev + b_2)) / R\n",
    "                        \n",
    "            # Update the accumulated profits of each strategy *** DOUBLE CHECK HERE***\n",
    "            pi_1 = ((x_equil - (R * x_prev)) * ((g_1 * x_prev) + b_1 - (R * x_prev))) / (v * sigma**2) - C\n",
    "            pi_2 = ((x_equil - (R * x_prev)) * ((g_2 * x_prev) + b_2 - (R * x_prev))) / (v * sigma**2)\n",
    "                        \n",
    "            # Update the fitness measure of each strategy\n",
    "            U_1 = pi_1 + (w * U_1)\n",
    "            U_2 = pi_2 + (w * U_2)\n",
    "            \n",
    "            # Update the fractions of each strategy\n",
    "            n_1 = np.exp(beta * U_1) / (np.exp(beta * U_1) + np.exp(beta * U_2))\n",
    "            n_2 = 1 - n_1\n",
    "\n",
    "            # Set initial conditions for next period\n",
    "            x_prev = x_equil\n",
    "            x = x_equil + random_dividend[t]\n",
    "\n",
    "            # Set constraints on unstable diverging behaviour\n",
    "            if x > 100:\n",
    "                x = np.nan\n",
    "            elif x < 0:\n",
    "                x = np.nan\n",
    "\n",
    "            \"\"\" Record Results \"\"\"\n",
    "            # Prices\n",
    "            X[t] = x\n",
    "            P[t] = x + p_star\n",
    "            N_1[t] = n_1\n",
    "            \n",
    "        # If there are no nan values (diverging behaviour)...\n",
    "        if X[~np.isnan(X)].shape[0] == T:\n",
    "            # Return the first order differences\n",
    "            simulated_data = np.diff(np.log(X[~np.isnan(X)]))\n",
    "\n",
    "    return simulated_data\n",
    "\n",
    "print \"bh_abm successfully imported\""
   ]
  },
  {
   "cell_type": "code",
   "execution_count": 213,
   "metadata": {},
   "outputs": [
    {
     "name": "stdout",
     "output_type": "stream",
     "text": [
      "bh_abm_statistic successfully imported\n"
     ]
    }
   ],
   "source": [
    "def bh_abm_callibration_measures(simulated_data, \n",
    "                                 real_data):\n",
    "    \"\"\"\n",
    "    B&H callibration calculation.\n",
    "    \n",
    "    Parameters\n",
    "    ----------\n",
    "    simulated_data: array\n",
    "        GDP_growth_rate's of the simulated data (output of bh_abm_evaluate_on_set).\n",
    "    real_data: array\n",
    "        GDP growth rates of the real data (output of get_bh_abm_real_data).\n",
    "        \n",
    "    Returns\n",
    "    -------\n",
    "    p_value: float\n",
    "        The p-value of the KS test as to wether the two distributions are equal.\n",
    "    response: \n",
    "        The binary response as to wether the two distributions are equal under the KS test (5% threshold).\n",
    "    \"\"\"\n",
    "    \n",
    "    # Set the default response\n",
    "    response = 1.0 # (Accept)\n",
    "    \n",
    "    # Check that the length of the simulated data is equal to that of the real data returns\n",
    "    if len(simulated_data) == len(real_data):\n",
    "        \n",
    "        # Set random seed\n",
    "        np.random.seed(0)\n",
    "\n",
    "        # Carry out the KS test\n",
    "        response, p_value = ks_2samp(simulated_data, real_data)\n",
    "\n",
    "        # Reject if p-value is less than 5%\n",
    "        if p_value < 0.05:\n",
    "            response = 1.0\n",
    "\n",
    "        return p_value, response\n",
    "        \n",
    "print \"bh_abm_statistic successfully imported\""
   ]
  },
  {
   "cell_type": "code",
   "execution_count": 214,
   "metadata": {},
   "outputs": [
    {
     "name": "stdout",
     "output_type": "stream",
     "text": [
      "bh_abm_on_set successfully imported\n"
     ]
    }
   ],
   "source": [
    "def bh_abm_on_set(parameter_combinations):\n",
    "    \"\"\"\n",
    "    Run bh_abm on a set of parameter combinations.\n",
    "    \n",
    "    Parameters\n",
    "    ----------\n",
    "    parameter_combinations: array\n",
    "        Array of parameter combinations to run the bh_abm on.\n",
    "        \n",
    "    Returns\n",
    "    -------\n",
    "    p_values: array \n",
    "        The p-values from the callibration measure of each parameter combination.\n",
    "    responses: array\n",
    "        The binary response associated to the p-value.\n",
    "    \"\"\"\n",
    "    \n",
    "    # Pre allocate array to store results in\n",
    "    p_values = np.zeros(parameter_combinations.shape[0])\n",
    "    responses = np.zeros(parameter_combinations.shape[0])\n",
    "    \n",
    "    real_data = bh_abm_get_real_data()\n",
    "\n",
    "    for i, (beta, n_1, b_1, b_2, g_1, g_2, C, w, sigma, v, r) in enumerate(parameter_combinations):\n",
    "        \n",
    "        # Simulate the data for those parameters\n",
    "        simulated_data = bh_abm(beta = beta, \n",
    "                                n_1 = n_1,\n",
    "                                b_1 = b_1,\n",
    "                                b_2 = b_2,\n",
    "                                g_1 = g_1,\n",
    "                                g_2 = g_2,\n",
    "                                C = C,\n",
    "                                w = w,\n",
    "                                sigma = sigma,\n",
    "                                v = v,\n",
    "                                r = r)\n",
    "        \n",
    "        # Input it into the array\n",
    "        p_values[i], responses[i] = bh_abm_callibration_measures(simulated_data, real_data)\n",
    "\n",
    "    return p_values, responses\n",
    "\n",
    "print \"bh_abm_on_set successfully imported\""
   ]
  },
  {
   "cell_type": "code",
   "execution_count": 215,
   "metadata": {},
   "outputs": [
    {
     "name": "stdout",
     "output_type": "stream",
     "text": [
      "bh_abm_get_real_data successfully imported\n"
     ]
    }
   ],
   "source": [
    "def bh_abm_get_real_data():\n",
    "    \"\"\" \n",
    "    Get real data sample from file named sp500.csv .\n",
    "    \n",
    "    Returns\n",
    "    -------\n",
    "    sample:\n",
    "        Differenced real data sample.\n",
    "    \"\"\"\n",
    "    \n",
    "    # Read in data using pandas \n",
    "    data_close = pd.read_csv('/Users/b4017054/Documents/Work/Newcastle/PhD/ABM/sani/sp500.csv')\n",
    "    # Set 'Date' as the index\n",
    "    data_close.index = data_close['Date']\n",
    "    # Sample the 'Adj Close' column, difference it by one, and drop any NA's\n",
    "    sample = np.log(data_close['Adj Close']).diff(1).dropna()\n",
    "    \n",
    "    return sample\n",
    "\n",
    "print \"bh_abm_get_real_data successfully imported\""
   ]
  },
  {
   "cell_type": "code",
   "execution_count": 216,
   "metadata": {},
   "outputs": [
    {
     "name": "stdout",
     "output_type": "stream",
     "text": [
      "bh_abm_evaluate_samples successfully imported\n"
     ]
    }
   ],
   "source": [
    "def bh_abm_evaluate_samples(unirand_train_samples, \n",
    "                            unirand_test_samples):\n",
    "    \"\"\" \n",
    "    Evaluate the B&H abm on the train and test samples provided.\n",
    "    \n",
    "    Parameters\n",
    "    ----------\n",
    "    unirand_train_samples: array\n",
    "        Array of training parameter combinations to run the bh_abm on.\n",
    "    unirand_test_samples: array\n",
    "        Array of training parameter combinations to run the bh_abm on.\n",
    "    \n",
    "    Returns\n",
    "    ------\n",
    "    evaluated_Y_train: array\n",
    "        Training labels for binary and real valued case.\n",
    "    evaluated_Y_test: array\n",
    "        Test labels for binary and real valued case.\n",
    "    \"\"\"\n",
    "    evaluated_Y_train = bh_abm_on_set(unirand_train_samples)\n",
    "    \n",
    "    evaluated_Y_test = bh_abm_on_set(unirand_test_samples)\n",
    "    \n",
    "    return evaluated_Y_train, evaluated_Y_test\n",
    "\n",
    "print \"bh_abm_evaluate_samples successfully imported\""
   ]
  },
  {
   "cell_type": "code",
   "execution_count": 217,
   "metadata": {},
   "outputs": [
    {
     "name": "stdout",
     "output_type": "stream",
     "text": [
      "import bh_abm complete\n"
     ]
    }
   ],
   "source": [
    "print \"import bh_abm complete\""
   ]
  },
  {
   "cell_type": "code",
   "execution_count": null,
   "metadata": {},
   "outputs": [],
   "source": []
  }
 ],
 "metadata": {
  "kernelspec": {
   "display_name": "Python 2",
   "language": "python",
   "name": "python2"
  },
  "language_info": {
   "codemirror_mode": {
    "name": "ipython",
    "version": 2
   },
   "file_extension": ".py",
   "mimetype": "text/x-python",
   "name": "python",
   "nbconvert_exporter": "python",
   "pygments_lexer": "ipython2",
   "version": "2.7.15"
  }
 },
 "nbformat": 4,
 "nbformat_minor": 2
}
