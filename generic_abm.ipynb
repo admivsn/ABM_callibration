{
 "cells": [
  {
   "cell_type": "code",
   "execution_count": null,
   "metadata": {},
   "outputs": [],
   "source": [
    "def get_unirand_parameter_samples(n_train_samples, n_test_samples, parameter_support):\n",
    "    \"\"\"\n",
    "    Generate n_samples from the parameter support\n",
    "    \"\"\"\n",
    "    # Get the range for the support, array containing the range of each parameter\n",
    "    support_range = parameter_support[:, 1] - parameter_support[:, 0]\n",
    "    \n",
    "    # Generate training sample\n",
    "    random_samples = np.random.rand(parameter_support.shape[0], n_train_samples+ n_test_samples).T\n",
    "    unirand_samples = np.vstack([\n",
    "        np.multiply(s, support_range) + parameter_support[:, 0]\n",
    "        for s in random_samples])\n",
    "    \n",
    "    unirand_train_samples = unirand_samples[0: n_train_samples, ]\n",
    "    unirand_test_samples = unirand_samples[n_train_samples:, ]\n",
    "\n",
    "    return unirand_train_samples, unirand_test_samples\n",
    "\n",
    "print \"get_unirand_parameter_samples successfully imported\""
   ]
  },
  {
   "cell_type": "code",
   "execution_count": null,
   "metadata": {},
   "outputs": [],
   "source": []
  }
 ],
 "metadata": {
  "kernelspec": {
   "display_name": "Python 2",
   "language": "python",
   "name": "python2"
  },
  "language_info": {
   "codemirror_mode": {
    "name": "ipython",
    "version": 2
   },
   "file_extension": ".py",
   "mimetype": "text/x-python",
   "name": "python",
   "nbconvert_exporter": "python",
   "pygments_lexer": "ipython2",
   "version": "2.7.15"
  }
 },
 "nbformat": 4,
 "nbformat_minor": 2
}
